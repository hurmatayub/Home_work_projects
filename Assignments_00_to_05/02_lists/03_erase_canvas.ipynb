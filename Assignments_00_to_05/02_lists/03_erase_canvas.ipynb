from ipycanvas import Canvas, hold_canvas
from IPython.display import display

# Create a canvas
canvas = Canvas(width=400, height=400)
display(canvas)

# Draw blue blocks
cell_size = 40
for x in range(0, 400, cell_size):
    for y in range(0, 400, cell_size):
        canvas.fill_style = 'blue'
        canvas.fill_rect(x, y, cell_size, cell_size)

# Eraser settings
eraser_size = 50

# Eraser function
def on_mouse_move(x, y):
    with hold_canvas(canvas):
        for i in range(0, 400, cell_size):
            for j in range(0, 400, cell_size):
                if (x < i + cell_size and x + eraser_size > i and
                    y < j + cell_size and y + eraser_size > j):
                    canvas.fill_style = 'white'
                    canvas.fill_rect(i, j, cell_size, cell_size)

canvas.on_mouse_move(on_mouse_move)
